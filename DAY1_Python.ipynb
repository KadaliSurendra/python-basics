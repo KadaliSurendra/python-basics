{
  "cells": [
    {
      "cell_type": "markdown",
      "metadata": {
        "id": "view-in-github",
        "colab_type": "text"
      },
      "source": [
        "<a href=\"https://colab.research.google.com/github/KadaliSurendra/python-basics/blob/master/DAY1_Python.ipynb\" target=\"_parent\"><img src=\"https://colab.research.google.com/assets/colab-badge.svg\" alt=\"Open In Colab\"/></a>"
      ]
    },
    {
      "cell_type": "code",
      "source": [
        "# prompt: def prime(*args):\n",
        "\n",
        "def addition(*args):\n",
        "  total = 0\n",
        "  for n in args:\n",
        "    total+=n\n",
        "  return total\n",
        "\n",
        "\n",
        "print(addition(1,2,3,4,4,5,6,7,8,9))\n",
        "print(addition(1,2,3,4))\n"
      ],
      "metadata": {
        "id": "L5YdKl0Vjq6d",
        "outputId": "6b3d88fc-bef4-4c53-cde7-e0737b51475c",
        "colab": {
          "base_uri": "https://localhost:8080/"
        }
      },
      "execution_count": 3,
      "outputs": [
        {
          "output_type": "stream",
          "name": "stdout",
          "text": [
            "49\n",
            "10\n"
          ]
        }
      ]
    },
    {
      "cell_type": "code",
      "source": [
        "def person(**kwargs):\n",
        "  for k,v in kwargs.items():\n",
        "    print(k,'  :  ',v)\n",
        "#dic={'name':'Surendra','Age': 23, 'Gender':'Male','Country':'India','State':'Andhra pradesh','City':'Bhimavaram','Phone_number':7993051296}\n",
        "print(person(name='Surendra',age = 23))"
      ],
      "metadata": {
        "id": "ppnfLtcxkMBh",
        "outputId": "c5bf005c-01d2-4cc4-cebd-43522c0e19a7",
        "colab": {
          "base_uri": "https://localhost:8080/"
        }
      },
      "execution_count": 20,
      "outputs": [
        {
          "output_type": "stream",
          "name": "stdout",
          "text": [
            "name   :   Surendra\n",
            "age   :   23\n",
            "None\n"
          ]
        }
      ]
    },
    {
      "cell_type": "code",
      "source": [
        "def even(x):\n",
        "  if x%2 ==0:\n",
        "    return True\n",
        "  else:\n",
        "    return False\n",
        "l= [1,2,3,4,5,6,7,8,9,10]\n",
        "maped = map(even,l)\n",
        "print(list(maped))\n",
        "filterd = filter(even,l)\n",
        "print(list(filterd))"
      ],
      "metadata": {
        "id": "lkJAPdTuo0sq",
        "outputId": "9109d2de-a931-45a2-9680-86ea2b247a5b",
        "colab": {
          "base_uri": "https://localhost:8080/"
        }
      },
      "execution_count": 21,
      "outputs": [
        {
          "output_type": "stream",
          "name": "stdout",
          "text": [
            "[False, True, False, True, False, True, False, True, False, True]\n",
            "[2, 4, 6, 8, 10]\n"
          ]
        }
      ]
    }
  ],
  "metadata": {
    "colab": {
      "name": "Welcome To Colab",
      "provenance": [],
      "include_colab_link": true
    },
    "kernelspec": {
      "display_name": "Python 3",
      "name": "python3"
    }
  },
  "nbformat": 4,
  "nbformat_minor": 0
}